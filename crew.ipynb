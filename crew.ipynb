{
 "cells": [
  {
   "cell_type": "code",
   "execution_count": 1,
   "metadata": {},
   "outputs": [
    {
     "ename": "ModuleNotFoundError",
     "evalue": "No module named 'dotenv'",
     "output_type": "error",
     "traceback": [
      "\u001b[1;31m---------------------------------------------------------------------------\u001b[0m",
      "\u001b[1;31mModuleNotFoundError\u001b[0m                       Traceback (most recent call last)",
      "Cell \u001b[1;32mIn[1], line 2\u001b[0m\n\u001b[0;32m      1\u001b[0m \u001b[38;5;28;01mimport\u001b[39;00m \u001b[38;5;21;01mos\u001b[39;00m\n\u001b[1;32m----> 2\u001b[0m \u001b[38;5;28;01mfrom\u001b[39;00m \u001b[38;5;21;01mdotenv\u001b[39;00m \u001b[38;5;28;01mimport\u001b[39;00m load_dotenv\n\u001b[0;32m      4\u001b[0m load_dotenv()\n\u001b[0;32m      6\u001b[0m os\u001b[38;5;241m.\u001b[39menviron[\u001b[38;5;124m\"\u001b[39m\u001b[38;5;124mOPENAI_MODEL_NAME\u001b[39m\u001b[38;5;124m\"\u001b[39m] \u001b[38;5;241m=\u001b[39m \u001b[38;5;124m\"\u001b[39m\u001b[38;5;124mgpt-4o-mini\u001b[39m\u001b[38;5;124m\"\u001b[39m\n",
      "\u001b[1;31mModuleNotFoundError\u001b[0m: No module named 'dotenv'"
     ]
    }
   ],
   "source": [
    "import os\n",
    "from dotenv import load_dotenv\n",
    "\n",
    "load_dotenv()\n",
    "\n",
    "os.environ[\"OPENAI_MODEL_NAME\"] = \"gpt-4o-mini\""
   ]
  },
  {
   "cell_type": "code",
   "execution_count": null,
   "metadata": {},
   "outputs": [],
   "source": [
    "from crewai import Crew, Task"
   ]
  },
  {
   "cell_type": "code",
   "execution_count": null,
   "metadata": {},
   "outputs": [],
   "source": [
    "from crewai_tools import tool\n",
    "\n",
    "import yfinance as yf\n",
    "\n",
    "\n",
    "class Tools:\n",
    "\n",
    "    @tool(\"One month stock price history\")\n",
    "    def stock_price(ticker):\n",
    "        \"\"\"\n",
    "        Useful to get a month's worth of stock price data as CSV.\n",
    "        The input of this tool should a ticker, for example AAPL, NET, TSLA etc...\n",
    "        \"\"\"\n",
    "        stock = yf.Ticker(ticker)\n",
    "        return stock.history(period=\"1mo\").to_csv()\n",
    "\n",
    "    @tool(\"Stock news URLs\")\n",
    "    def stock_news(ticker):\n",
    "        \"\"\"\n",
    "        Useful to get URLs of news articles related to a stock.\n",
    "        The input to this tool should be a ticker, for example AAPL, NET\n",
    "        \"\"\"\n",
    "        stock = yf.Ticker(ticker)\n",
    "        return list(map(lambda x: x[\"link\"], stock.news))\n",
    "\n",
    "    @tool(\"Company's income statement\")\n",
    "    def income_stmt(ticker):\n",
    "        \"\"\"\n",
    "        Useful to get the income statement of a stock as CSV.\n",
    "        The input to this tool should be a ticker, for example AAPL, NET\n",
    "        \"\"\"\n",
    "        stock = yf.Ticker(ticker)\n",
    "        return stock.income_stmt.to_csv()\n",
    "\n",
    "    @tool(\"Balance sheet\")\n",
    "    def balance_sheet(ticker):\n",
    "        \"\"\"\n",
    "        Useful to get the balance sheet of a stock as CSV.\n",
    "        The input to this tool should be a ticker, for example AAPL, NET\n",
    "        \"\"\"\n",
    "        stock = yf.Ticker(ticker)\n",
    "        return stock.balance_sheet.to_csv()\n",
    "\n",
    "    @tool(\"Get insider transactions\")\n",
    "    def insider_transactions(ticker):\n",
    "        \"\"\"\n",
    "        Useful to get insider transactions of a stock as CSV.\n",
    "        The input to this tool should be a ticker, for example AAPL, NET\n",
    "        \"\"\"\n",
    "        stock = yf.Ticker(ticker)\n",
    "        return stock.insider_transactions.to_csv()"
   ]
  },
  {
   "cell_type": "code",
   "execution_count": null,
   "metadata": {},
   "outputs": [],
   "source": [
    "from crewai import Agent\n",
    "\n",
    "\n",
    "from crewai_tools import ScrapeWebsiteTool\n",
    "\n",
    "\n",
    "class Agents:\n",
    "\n",
    "    def technical_analyst(self):\n",
    "        return Agent(\n",
    "            role=\"Technical Analyst\",\n",
    "            goal=\"Analyses the movements of a stock and provides insights on trends, entry points, resistance and support levels.\",\n",
    "            backstory=\"An expert in technical analysis, you're known for your ability to predict stock movements and trends based on historical data. You provide valuable insights to your customers.\",\n",
    "            verbose=True,\n",
    "            tools=[\n",
    "                Tools.stock_price,\n",
    "            ],\n",
    "        )\n",
    "\n",
    "    def researcher(self):\n",
    "        return Agent(\n",
    "            role=\"Researcher\",\n",
    "            goal=\"Gathers, interprets and summarizes vasts amounts of data to provide a comprehensive overview of the sentiment and news surrounding a stock.\",\n",
    "            backstory=\"You're skilled in gathering and interpreting data from various sources to give a complete picture of a stock's sentiment and news. You read each data source carefuly and extract the most important information. Your insights are crucial for making informed investment decisions.\",\n",
    "            verbose=True,\n",
    "            tools=[\n",
    "                Tools.stock_news,\n",
    "                ScrapeWebsiteTool(),\n",
    "            ],\n",
    "        )\n",
    "\n",
    "    def financial_analyst(self):\n",
    "        return Agent(\n",
    "            role=\"Financial Analyst\",\n",
    "            goal=\"Uses financial statements, insider trading data, and other financial metrics to evaluate a stock's financial health and performance.\",\n",
    "            backstory=\"You're a very experienced investment advisor who uses a combination of technical and fundamental analysis to provide strategic investment advice to your clients. You look at a company's financial health, market sentiment, and qualitative data to make informed recommendations.\",\n",
    "            verbose=True,\n",
    "            tools=[\n",
    "                Tools.balance_sheet,\n",
    "                Tools.income_stmt,\n",
    "                Tools.insider_transactions,\n",
    "            ],\n",
    "        )\n",
    "\n",
    "    def hedge_fund_manager(self):\n",
    "        return Agent(\n",
    "            role=\"Hedge Fund Manager\",\n",
    "            goal=\"Manages a portfolio of stocks and makes strategic investment decisions to maximize returns using insights from financial analysts, technical analysts, and researchers.\",\n",
    "            backstory=\"You're a seasoned hedge fund manager with a proven track record of making profitable investment decisions. You're known for your ability to manage risk and maximize returns for your clients.\",\n",
    "            verbose=True,\n",
    "        )"
   ]
  }
 ],
 "metadata": {
  "kernelspec": {
   "display_name": "crewai",
   "language": "python",
   "name": "python3"
  },
  "language_info": {
   "codemirror_mode": {
    "name": "ipython",
    "version": 3
   },
   "file_extension": ".py",
   "mimetype": "text/x-python",
   "name": "python",
   "nbconvert_exporter": "python",
   "pygments_lexer": "ipython3",
   "version": "3.12.3"
  }
 },
 "nbformat": 4,
 "nbformat_minor": 2
}
